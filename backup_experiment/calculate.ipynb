{
 "cells": [
  {
   "cell_type": "markdown",
   "metadata": {},
   "source": [
    "<p align=\"center\">\n",
    "    <span style=\"font-size:18pt\">\n",
    "    Jupyter notebook for calculating the data of systems in <code>systems_list.json</code> file.</br>\n",
    "    Calculated data is used in backup experiment of mdl-developed antisolvent screening method.\n",
    "    </span>\n",
    "</p>"
   ]
  },
  {
   "cell_type": "code",
   "execution_count": 14,
   "metadata": {},
   "outputs": [],
   "source": [
    "import sys\n",
    "import numpy as np\n",
    "import pandas\n",
    "import matplotlib.pyplot as plt\n",
    "import ternary\n",
    "import json\n",
    "\n",
    "sys.path.append(\"..\")\n",
    "from ternary_calculate import TernaryCalculate as tc\n",
    "from antisolvent_calculate import AntisolventCalculate as ac"
   ]
  },
  {
   "cell_type": "code",
   "execution_count": 15,
   "metadata": {},
   "outputs": [],
   "source": [
    "# Load system list\n",
    "with open(\"./systems_list.json\", \"r\") as systems_json:\n",
    "    systems_list = json.load(systems_json)"
   ]
  },
  {
   "cell_type": "code",
   "execution_count": 16,
   "metadata": {},
   "outputs": [],
   "source": [
    "# Load component properties\n",
    "with open(\"./properties.json\", \"r\") as properties_json:\n",
    "    properties = json.load(properties_json)"
   ]
  },
  {
   "cell_type": "code",
   "execution_count": 17,
   "metadata": {},
   "outputs": [
    {
     "name": "stdout",
     "output_type": "stream",
     "text": [
      "System: GLUTARIC_ACID-1-BUTANOL-TOLUENE\n",
      "Initializing system...\n"
     ]
    },
    {
     "ename": "KeyboardInterrupt",
     "evalue": "",
     "output_type": "error",
     "traceback": [
      "\u001b[0;31m---------------------------------------------------------------------------\u001b[0m",
      "\u001b[0;31mKeyboardInterrupt\u001b[0m                         Traceback (most recent call last)",
      "\u001b[1;32m/Users/parkhyuntae/Library/CloudStorage/OneDrive-고려대학교/Lab_Intern/drowning-out/backup_experiment/calculate.ipynb Cell 5\u001b[0m line \u001b[0;36m1\n\u001b[1;32m      <a href='vscode-notebook-cell:/Users/parkhyuntae/Library/CloudStorage/OneDrive-%E1%84%80%E1%85%A9%E1%84%85%E1%85%A7%E1%84%83%E1%85%A2%E1%84%92%E1%85%A1%E1%86%A8%E1%84%80%E1%85%AD/Lab_Intern/drowning-out/backup_experiment/calculate.ipynb#W3sZmlsZQ%3D%3D?line=8'>9</a>\u001b[0m \u001b[39mfor\u001b[39;00m antisolvent \u001b[39min\u001b[39;00m sys1_compo[\u001b[39m\"\u001b[39m\u001b[39mantisolvent\u001b[39m\u001b[39m\"\u001b[39m]:\n\u001b[1;32m     <a href='vscode-notebook-cell:/Users/parkhyuntae/Library/CloudStorage/OneDrive-%E1%84%80%E1%85%A9%E1%84%85%E1%85%A7%E1%84%83%E1%85%A2%E1%84%92%E1%85%A1%E1%86%A8%E1%84%80%E1%85%AD/Lab_Intern/drowning-out/backup_experiment/calculate.ipynb#W3sZmlsZQ%3D%3D?line=9'>10</a>\u001b[0m     system1\u001b[39m.\u001b[39madd_antisolvent(\u001b[39m*\u001b[39m\u001b[39m*\u001b[39mproperties[antisolvent])\n\u001b[0;32m---> <a href='vscode-notebook-cell:/Users/parkhyuntae/Library/CloudStorage/OneDrive-%E1%84%80%E1%85%A9%E1%84%85%E1%85%A7%E1%84%83%E1%85%A2%E1%84%92%E1%85%A1%E1%86%A8%E1%84%80%E1%85%AD/Lab_Intern/drowning-out/backup_experiment/calculate.ipynb#W3sZmlsZQ%3D%3D?line=10'>11</a>\u001b[0m     calculator \u001b[39m=\u001b[39m ac(system1, trace\u001b[39m=\u001b[39;49m\u001b[39mFalse\u001b[39;49;00m)\n\u001b[1;32m     <a href='vscode-notebook-cell:/Users/parkhyuntae/Library/CloudStorage/OneDrive-%E1%84%80%E1%85%A9%E1%84%85%E1%85%A7%E1%84%83%E1%85%A2%E1%84%92%E1%85%A1%E1%86%A8%E1%84%80%E1%85%AD/Lab_Intern/drowning-out/backup_experiment/calculate.ipynb#W3sZmlsZQ%3D%3D?line=11'>12</a>\u001b[0m     _ \u001b[39m=\u001b[39m calculator\u001b[39m.\u001b[39mget_data(\n\u001b[1;32m     <a href='vscode-notebook-cell:/Users/parkhyuntae/Library/CloudStorage/OneDrive-%E1%84%80%E1%85%A9%E1%84%85%E1%85%A7%E1%84%83%E1%85%A2%E1%84%92%E1%85%A1%E1%86%A8%E1%84%80%E1%85%AD/Lab_Intern/drowning-out/backup_experiment/calculate.ipynb#W3sZmlsZQ%3D%3D?line=12'>13</a>\u001b[0m         export\u001b[39m=\u001b[39m\u001b[39m\"\u001b[39m\u001b[39mcsv\u001b[39m\u001b[39m\"\u001b[39m,\n\u001b[1;32m     <a href='vscode-notebook-cell:/Users/parkhyuntae/Library/CloudStorage/OneDrive-%E1%84%80%E1%85%A9%E1%84%85%E1%85%A7%E1%84%83%E1%85%A2%E1%84%92%E1%85%A1%E1%86%A8%E1%84%80%E1%85%AD/Lab_Intern/drowning-out/backup_experiment/calculate.ipynb#W3sZmlsZQ%3D%3D?line=13'>14</a>\u001b[0m         file_name\u001b[39m=\u001b[39m\u001b[39mf\u001b[39m\u001b[39m\"\u001b[39m\u001b[39m./data/\u001b[39m\u001b[39m{\u001b[39;00msystem1\u001b[39m.\u001b[39mmole_name[\u001b[39m0\u001b[39m]\u001b[39m}\u001b[39;00m\u001b[39m_\u001b[39m\u001b[39m{\u001b[39;00msystem1\u001b[39m.\u001b[39mmole_name[\u001b[39m1\u001b[39m]\u001b[39m}\u001b[39;00m\u001b[39m_\u001b[39m\u001b[39m{\u001b[39;00msystem1\u001b[39m.\u001b[39mmole_name[\u001b[39m2\u001b[39m]\u001b[39m}\u001b[39;00m\u001b[39m\"\u001b[39m,\n\u001b[1;32m     <a href='vscode-notebook-cell:/Users/parkhyuntae/Library/CloudStorage/OneDrive-%E1%84%80%E1%85%A9%E1%84%85%E1%85%A7%E1%84%83%E1%85%A2%E1%84%92%E1%85%A1%E1%86%A8%E1%84%80%E1%85%AD/Lab_Intern/drowning-out/backup_experiment/calculate.ipynb#W3sZmlsZQ%3D%3D?line=14'>15</a>\u001b[0m     )\n\u001b[1;32m     <a href='vscode-notebook-cell:/Users/parkhyuntae/Library/CloudStorage/OneDrive-%E1%84%80%E1%85%A9%E1%84%85%E1%85%A7%E1%84%83%E1%85%A2%E1%84%92%E1%85%A1%E1%86%A8%E1%84%80%E1%85%AD/Lab_Intern/drowning-out/backup_experiment/calculate.ipynb#W3sZmlsZQ%3D%3D?line=15'>16</a>\u001b[0m     system1\u001b[39m.\u001b[39mclear_antisolvent()\n",
      "File \u001b[0;32m~/Library/CloudStorage/OneDrive-고려대학교/Lab_Intern/drowning-out/backup_experiment/../antisolvent_calculate.py:153\u001b[0m, in \u001b[0;36mAntisolventCalculate.__init__\u001b[0;34m(self, system, **kwarg)\u001b[0m\n\u001b[1;32m    148\u001b[0m \u001b[39mprint\u001b[39m(\n\u001b[1;32m    149\u001b[0m     \u001b[39mf\u001b[39m\u001b[39m\"\u001b[39m\u001b[39mSystem: \u001b[39m\u001b[39m{\u001b[39;00msystem\u001b[39m.\u001b[39mmole_name[\u001b[39m0\u001b[39m]\u001b[39m}\u001b[39;00m\u001b[39m-\u001b[39m\u001b[39m{\u001b[39;00msystem\u001b[39m.\u001b[39mmole_name[\u001b[39m1\u001b[39m]\u001b[39m}\u001b[39;00m\u001b[39m-\u001b[39m\u001b[39m{\u001b[39;00msystem\u001b[39m.\u001b[39mmole_name[\u001b[39m2\u001b[39m]\u001b[39m}\u001b[39;00m\u001b[39m\"\u001b[39m\n\u001b[1;32m    150\u001b[0m )\n\u001b[1;32m    151\u001b[0m \u001b[39mprint\u001b[39m(\u001b[39m\"\u001b[39m\u001b[39mInitializing system...\u001b[39m\u001b[39m\"\u001b[39m)\n\u001b[0;32m--> 153\u001b[0m ternary_data \u001b[39m=\u001b[39m system\u001b[39m.\u001b[39;49mcalculate(\n\u001b[1;32m    154\u001b[0m     ngrid\u001b[39m=\u001b[39;49mkwarg\u001b[39m.\u001b[39;49mget(\u001b[39m\"\u001b[39;49m\u001b[39mngrid\u001b[39;49m\u001b[39m\"\u001b[39;49m, \u001b[39m101\u001b[39;49m), trace\u001b[39m=\u001b[39;49mkwarg\u001b[39m.\u001b[39;49mget(\u001b[39m\"\u001b[39;49m\u001b[39mtrace\u001b[39;49m\u001b[39m\"\u001b[39;49m, \u001b[39mFalse\u001b[39;49;00m)\n\u001b[1;32m    155\u001b[0m )  \u001b[39m# ternary_data has shape of (ngrid, 3)\u001b[39;00m\n\u001b[1;32m    157\u001b[0m \u001b[39mself\u001b[39m\u001b[39m.\u001b[39mternary_data \u001b[39m=\u001b[39m ternary_data\n\u001b[1;32m    158\u001b[0m \u001b[39m# Get inital mole fraction\u001b[39;00m\n",
      "File \u001b[0;32m~/Library/CloudStorage/OneDrive-고려대학교/Lab_Intern/drowning-out/backup_experiment/../ternary_calculate.py:248\u001b[0m, in \u001b[0;36mTernaryCalculate.calculate\u001b[0;34m(self, ngrid, trace)\u001b[0m\n\u001b[1;32m    244\u001b[0m \u001b[39mdef\u001b[39;00m \u001b[39mcalculate\u001b[39m(\u001b[39mself\u001b[39m, ngrid: \u001b[39mint\u001b[39m \u001b[39m=\u001b[39m \u001b[39m21\u001b[39m, trace: \u001b[39mbool\u001b[39m \u001b[39m=\u001b[39m \u001b[39mTrue\u001b[39;00m) \u001b[39m-\u001b[39m\u001b[39m>\u001b[39m np\u001b[39m.\u001b[39mndarray:\n\u001b[1;32m    245\u001b[0m \u001b[39m    \u001b[39m\u001b[39m\"\"\"\u001b[39;00m\n\u001b[1;32m    246\u001b[0m \u001b[39m    Calculates data points for given ternary system.\u001b[39;00m\n\u001b[1;32m    247\u001b[0m \u001b[39m    \"\"\"\u001b[39;00m\n\u001b[0;32m--> 248\u001b[0m     ternary_data \u001b[39m=\u001b[39m _calc_sle_grid(\n\u001b[1;32m    249\u001b[0m         ngrid\u001b[39m=\u001b[39;49mngrid,\n\u001b[1;32m    250\u001b[0m         enth_fus\u001b[39m=\u001b[39;49m\u001b[39mself\u001b[39;49m\u001b[39m.\u001b[39;49menth_fus,\n\u001b[1;32m    251\u001b[0m         temp_melt\u001b[39m=\u001b[39;49m\u001b[39mself\u001b[39;49m\u001b[39m.\u001b[39;49mtemp_melt,\n\u001b[1;32m    252\u001b[0m         cosmo\u001b[39m=\u001b[39;49m\u001b[39mself\u001b[39;49m\u001b[39m.\u001b[39;49m_cosmo_model(),\n\u001b[1;32m    253\u001b[0m         temp\u001b[39m=\u001b[39;49m\u001b[39mself\u001b[39;49m\u001b[39m.\u001b[39;49mtemp,\n\u001b[1;32m    254\u001b[0m         trace\u001b[39m=\u001b[39;49mtrace,\n\u001b[1;32m    255\u001b[0m     )\n\u001b[1;32m    257\u001b[0m     \u001b[39mreturn\u001b[39;00m ternary_data\n",
      "File \u001b[0;32m~/Library/CloudStorage/OneDrive-고려대학교/Lab_Intern/drowning-out/backup_experiment/../ternary_calculate.py:112\u001b[0m, in \u001b[0;36m_calc_sle_grid\u001b[0;34m(ngrid, **kwarg)\u001b[0m\n\u001b[1;32m    110\u001b[0m result \u001b[39m=\u001b[39m np\u001b[39m.\u001b[39mempty((ngrid, \u001b[39m3\u001b[39m))\n\u001b[1;32m    111\u001b[0m \u001b[39mfor\u001b[39;00m idx, ratio \u001b[39min\u001b[39;00m \u001b[39menumerate\u001b[39m(ratiogrid):\n\u001b[0;32m--> 112\u001b[0m     sle_point \u001b[39m=\u001b[39m _calc_sle_point(\n\u001b[1;32m    113\u001b[0m         kwarg\u001b[39m.\u001b[39;49mget(\u001b[39m\"\u001b[39;49m\u001b[39menth_fus\u001b[39;49m\u001b[39m\"\u001b[39;49m),\n\u001b[1;32m    114\u001b[0m         kwarg\u001b[39m.\u001b[39;49mget(\u001b[39m\"\u001b[39;49m\u001b[39mtemp_melt\u001b[39;49m\u001b[39m\"\u001b[39;49m),\n\u001b[1;32m    115\u001b[0m         ratio,\n\u001b[1;32m    116\u001b[0m         kwarg\u001b[39m.\u001b[39;49mget(\u001b[39m\"\u001b[39;49m\u001b[39mcosmo\u001b[39;49m\u001b[39m\"\u001b[39;49m),\n\u001b[1;32m    117\u001b[0m         kwarg\u001b[39m.\u001b[39;49mget(\u001b[39m\"\u001b[39;49m\u001b[39mtemp\u001b[39;49m\u001b[39m\"\u001b[39;49m),\n\u001b[1;32m    118\u001b[0m         kwarg\u001b[39m.\u001b[39;49mget(\u001b[39m\"\u001b[39;49m\u001b[39mtrace\u001b[39;49m\u001b[39m\"\u001b[39;49m),\n\u001b[1;32m    119\u001b[0m     )\n\u001b[1;32m    120\u001b[0m     result[idx, :] \u001b[39m=\u001b[39m sle_point\n\u001b[1;32m    122\u001b[0m \u001b[39mreturn\u001b[39;00m result\n",
      "File \u001b[0;32m~/Library/CloudStorage/OneDrive-고려대학교/Lab_Intern/drowning-out/backup_experiment/../ternary_calculate.py:64\u001b[0m, in \u001b[0;36m_calc_sle_point\u001b[0;34m(enth_fus, temp_melt, ratio, cosmo, temp, trace)\u001b[0m\n\u001b[1;32m     61\u001b[0m x_old \u001b[39m=\u001b[39m x_init\n\u001b[1;32m     63\u001b[0m \u001b[39mfor\u001b[39;00m \u001b[39miter\u001b[39m \u001b[39min\u001b[39;00m \u001b[39mrange\u001b[39m(\u001b[39m500\u001b[39m):\n\u001b[0;32m---> 64\u001b[0m     gamma_list \u001b[39m=\u001b[39m cosmo\u001b[39m.\u001b[39;49mgam(x_old, temp)\n\u001b[1;32m     65\u001b[0m     \u001b[39m# print(f\"iter: {iter}, gamma value: {gamma_list}\")\u001b[39;00m\n\u001b[1;32m     66\u001b[0m     x_new \u001b[39m=\u001b[39m np\u001b[39m.\u001b[39mexp(\u001b[39m-\u001b[39menth_fus \u001b[39m/\u001b[39m _R \u001b[39m*\u001b[39m (\u001b[39m1\u001b[39m \u001b[39m/\u001b[39m temp \u001b[39m-\u001b[39m \u001b[39m1\u001b[39m \u001b[39m/\u001b[39m temp_melt)) \u001b[39m/\u001b[39m gamma_list\n",
      "File \u001b[0;32m~/Library/CloudStorage/OneDrive-고려대학교/Lab_Intern/drowning-out/backup_experiment/../cosmosac2.py:1069\u001b[0m, in \u001b[0;36mCOSMOSAC.gam\u001b[0;34m(self, x, T)\u001b[0m\n\u001b[1;32m   1050\u001b[0m \u001b[39mdef\u001b[39;00m \u001b[39mgam\u001b[39m(\u001b[39mself\u001b[39m, x, T):\n\u001b[1;32m   1051\u001b[0m \u001b[39m    \u001b[39m\u001b[39m\"\"\"Calculate COSMO-SAC activity coefficients.\u001b[39;00m\n\u001b[1;32m   1052\u001b[0m \n\u001b[1;32m   1053\u001b[0m \u001b[39m    Parameters\u001b[39;00m\n\u001b[0;32m   (...)\u001b[0m\n\u001b[1;32m   1067\u001b[0m \u001b[39m    cal_gam : Main code for calculating COSMO-SAC activity coefficients\u001b[39;00m\n\u001b[1;32m   1068\u001b[0m \u001b[39m    \"\"\"\u001b[39;00m\n\u001b[0;32m-> 1069\u001b[0m     \u001b[39mreturn\u001b[39;00m cal_gam(\n\u001b[1;32m   1070\u001b[0m         \u001b[39mself\u001b[39;49m\u001b[39m.\u001b[39;49mversion,\n\u001b[1;32m   1071\u001b[0m         x,\n\u001b[1;32m   1072\u001b[0m         T,\n\u001b[1;32m   1073\u001b[0m         \u001b[39mself\u001b[39;49m\u001b[39m.\u001b[39;49m_mixture\u001b[39m.\u001b[39;49mA,\n\u001b[1;32m   1074\u001b[0m         \u001b[39mself\u001b[39;49m\u001b[39m.\u001b[39;49m_mixture\u001b[39m.\u001b[39;49mV,\n\u001b[1;32m   1075\u001b[0m         \u001b[39mself\u001b[39;49m\u001b[39m.\u001b[39;49m_mixture\u001b[39m.\u001b[39;49mpsigA,\n\u001b[1;32m   1076\u001b[0m         \u001b[39mself\u001b[39;49m\u001b[39m.\u001b[39;49m_mixture\u001b[39m.\u001b[39;49mek,\n\u001b[1;32m   1077\u001b[0m         \u001b[39mself\u001b[39;49m\u001b[39m.\u001b[39;49m_mixture\u001b[39m.\u001b[39;49mdnatr\n\u001b[1;32m   1078\u001b[0m     )\n",
      "File \u001b[0;32m~/Library/CloudStorage/OneDrive-고려대학교/Lab_Intern/drowning-out/backup_experiment/../cosmosac2.py:928\u001b[0m, in \u001b[0;36mcal_gam\u001b[0;34m(version, x, T, A, V, psigA, ek, dnatr)\u001b[0m\n\u001b[1;32m    926\u001b[0m \u001b[39m# calculate log activity cofficients for each contribution\u001b[39;00m\n\u001b[1;32m    927\u001b[0m ln_gam_comb \u001b[39m=\u001b[39m cal_ln_gam_comb(x, A, V)\n\u001b[0;32m--> 928\u001b[0m ln_gam_res \u001b[39m=\u001b[39m cal_ln_gam_res(version, x, A, V, psigA, T)\n\u001b[1;32m    929\u001b[0m ln_gam_dsp \u001b[39m=\u001b[39m cal_ln_gam_dsp(x, ek, dnatr)\n\u001b[1;32m    931\u001b[0m \u001b[39m# check if dispersion activity coefficients are applicable\u001b[39;00m\n",
      "File \u001b[0;32m~/Library/CloudStorage/OneDrive-고려대학교/Lab_Intern/drowning-out/backup_experiment/../cosmosac2.py:826\u001b[0m, in \u001b[0;36mcal_ln_gam_res\u001b[0;34m(version, x, A, V, psigA, T, eps, verbose)\u001b[0m\n\u001b[1;32m    823\u001b[0m Gam_mix_old \u001b[39m=\u001b[39m Gam_mix\n\u001b[1;32m    825\u001b[0m Gam \u001b[39m=\u001b[39m \u001b[39m1\u001b[39m \u001b[39m/\u001b[39m np\u001b[39m.\u001b[39meinsum(\u001b[39m\"\u001b[39m\u001b[39mistmn,isn->itm\u001b[39m\u001b[39m\"\u001b[39m, A_plus, Gam)\n\u001b[0;32m--> 826\u001b[0m Gam_mix \u001b[39m=\u001b[39m \u001b[39m1\u001b[39m \u001b[39m/\u001b[39m np\u001b[39m.\u001b[39;49meinsum(\u001b[39m\"\u001b[39;49m\u001b[39mstmn,sn->tm\u001b[39;49m\u001b[39m\"\u001b[39;49m, A_plus_mix, Gam_mix)\n\u001b[1;32m    828\u001b[0m Gam \u001b[39m=\u001b[39m (\u001b[39m1.618\u001b[39m\u001b[39m*\u001b[39mGam \u001b[39m+\u001b[39m Gam_old)\u001b[39m/\u001b[39m\u001b[39m2.618\u001b[39m\n\u001b[1;32m    829\u001b[0m Gam_mix \u001b[39m=\u001b[39m (\u001b[39m1.618\u001b[39m\u001b[39m*\u001b[39mGam_mix \u001b[39m+\u001b[39m Gam_mix_old)\u001b[39m/\u001b[39m\u001b[39m2.618\u001b[39m\n",
      "File \u001b[0;32m<__array_function__ internals>:180\u001b[0m, in \u001b[0;36meinsum\u001b[0;34m(*args, **kwargs)\u001b[0m\n",
      "File \u001b[0;32m~/opt/anaconda3/envs/cosmo/lib/python3.8/site-packages/numpy/core/einsumfunc.py:1371\u001b[0m, in \u001b[0;36meinsum\u001b[0;34m(out, optimize, *operands, **kwargs)\u001b[0m\n\u001b[1;32m   1369\u001b[0m     \u001b[39mif\u001b[39;00m specified_out:\n\u001b[1;32m   1370\u001b[0m         kwargs[\u001b[39m'\u001b[39m\u001b[39mout\u001b[39m\u001b[39m'\u001b[39m] \u001b[39m=\u001b[39m out\n\u001b[0;32m-> 1371\u001b[0m     \u001b[39mreturn\u001b[39;00m c_einsum(\u001b[39m*\u001b[39;49moperands, \u001b[39m*\u001b[39;49m\u001b[39m*\u001b[39;49mkwargs)\n\u001b[1;32m   1373\u001b[0m \u001b[39m# Check the kwargs to avoid a more cryptic error later, without having to\u001b[39;00m\n\u001b[1;32m   1374\u001b[0m \u001b[39m# repeat default values here\u001b[39;00m\n\u001b[1;32m   1375\u001b[0m valid_einsum_kwargs \u001b[39m=\u001b[39m [\u001b[39m'\u001b[39m\u001b[39mdtype\u001b[39m\u001b[39m'\u001b[39m, \u001b[39m'\u001b[39m\u001b[39morder\u001b[39m\u001b[39m'\u001b[39m, \u001b[39m'\u001b[39m\u001b[39mcasting\u001b[39m\u001b[39m'\u001b[39m]\n",
      "\u001b[0;31mKeyboardInterrupt\u001b[0m: "
     ]
    }
   ],
   "source": [
    "# Calculate for system 1\n",
    "# solute: GLUTARIC_ACID; solvent: 1-BUTANOL\n",
    "sys1_compo = systems_list[0]\n",
    "system1 = tc()\n",
    "system1.add_solute(**properties[sys1_compo[\"solute\"]])\n",
    "system1.add_solvent(**properties[sys1_compo[\"solvent\"]])\n",
    "\n",
    "# Generate calculation data\n",
    "for antisolvent in sys1_compo[\"antisolvent\"]:\n",
    "    system1.add_antisolvent(**properties[antisolvent])\n",
    "    calculator = ac(system1, trace=False)\n",
    "    _ = calculator.get_data(\n",
    "        export=\"csv\",\n",
    "        file_name=f\"./data/{system1.mole_name[0]}_{system1.mole_name[1]}_{system1.mole_name[2]}.csv\",\n",
    "    )\n",
    "    system1.clear_antisolvent()"
   ]
  },
  {
   "cell_type": "code",
   "execution_count": null,
   "metadata": {},
   "outputs": [],
   "source": []
  }
 ],
 "metadata": {
  "kernelspec": {
   "display_name": "cosmo",
   "language": "python",
   "name": "python3"
  },
  "language_info": {
   "codemirror_mode": {
    "name": "ipython",
    "version": 3
   },
   "file_extension": ".py",
   "mimetype": "text/x-python",
   "name": "python",
   "nbconvert_exporter": "python",
   "pygments_lexer": "ipython3",
   "version": "3.8.17"
  }
 },
 "nbformat": 4,
 "nbformat_minor": 2
}
