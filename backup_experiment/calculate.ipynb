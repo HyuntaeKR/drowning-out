{
 "cells": [
  {
   "cell_type": "markdown",
   "metadata": {},
   "source": [
    "<p align=\"center\">\n",
    "    <span style=\"font-size:18pt\">\n",
    "    Jupyter notebook for calculating the data of systems in <code>systems_list.json</code> file.</br>\n",
    "    Calculated data is used in backup experiment of mdl-developed antisolvent screening method.\n",
    "    </span>\n",
    "</p>"
   ]
  },
  {
   "cell_type": "code",
   "execution_count": 18,
   "metadata": {},
   "outputs": [],
   "source": [
    "import sys\n",
    "import numpy as np\n",
    "import pandas\n",
    "import matplotlib.pyplot as plt\n",
    "import ternary\n",
    "import json\n",
    "\n",
    "sys.path.append(\"..\")\n",
    "from ternary_calculate import TernaryCalculate as tc\n",
    "from antisolvent_calculate import AntisolventCalculate as ac"
   ]
  },
  {
   "cell_type": "code",
   "execution_count": 19,
   "metadata": {},
   "outputs": [],
   "source": [
    "# Load system list\n",
    "with open(\"./systems_list.json\", \"r\") as systems_json:\n",
    "    systems_list = json.load(systems_json)"
   ]
  },
  {
   "cell_type": "code",
   "execution_count": 20,
   "metadata": {},
   "outputs": [],
   "source": [
    "# Load component properties\n",
    "with open(\"./properties.json\", \"r\") as properties_json:\n",
    "    properties = json.load(properties_json)"
   ]
  },
  {
   "cell_type": "code",
   "execution_count": null,
   "metadata": {},
   "outputs": [],
   "source": [
    "# Iterate through systems\n",
    "for sys in systems_list:\n",
    "    system = tc()\n",
    "    system.add_solute(**properties[sys[\"solute\"]])\n",
    "    system.add_solvent(**properties[sys[\"solvent\"]])\n",
    "\n",
    "    # Generate calculation data for each antisolvent\n",
    "    for antisolvent in sys[\"antisolvent\"]:\n",
    "        system.add_antisolvent(**properties[antisolvent])\n",
    "        calculator = ac(system, trace=False)\n",
    "        _ = calculator.get_data(\n",
    "            export=\"csv\",\n",
    "            file_name=f\"./data/{system.mole_name[0]}_{system.mole_name[1]}_{system.mole_name[2]}.csv\",\n",
    "        )\n",
    "        system.clear_antisolvent()\n",
    "\n",
    "    system.clear_solute()\n",
    "    system.clear_solvent()"
   ]
  }
 ],
 "metadata": {
  "kernelspec": {
   "display_name": "cosmo",
   "language": "python",
   "name": "python3"
  },
  "language_info": {
   "codemirror_mode": {
    "name": "ipython",
    "version": 3
   },
   "file_extension": ".py",
   "mimetype": "text/x-python",
   "name": "python",
   "nbconvert_exporter": "python",
   "pygments_lexer": "ipython3",
   "version": "3.8.17"
  }
 },
 "nbformat": 4,
 "nbformat_minor": 2
}
