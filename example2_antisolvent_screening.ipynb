{
 "cells": [
  {
   "cell_type": "code",
   "execution_count": null,
   "metadata": {},
   "outputs": [],
   "source": [
    "\"\"\"\n",
    "Jupyter notebook containing second example of antisolvent screening.\n",
    "Solute of the system is 'ibuprofen'.\n",
    "\n",
    "Property and calculated data are stored in './data2' folder.\n",
    "\"\"\""
   ]
  },
  {
   "cell_type": "code",
   "execution_count": null,
   "metadata": {},
   "outputs": [],
   "source": [
    "import os\n",
    "import numpy as np\n",
    "import pandas\n",
    "import matplotlib.pyplot as plt\n",
    "import ternary\n",
    "import json\n",
    "\n",
    "from cosmosac2 import COSMOMolecule, COSMOSAC\n",
    "from ternary_calculate import TernaryCalculate as tc\n",
    "from antisolvent_calculate import AntisolventCalculate as ac"
   ]
  },
  {
   "cell_type": "code",
   "execution_count": null,
   "metadata": {},
   "outputs": [],
   "source": [
    "# Solute properties\n",
    "solute = {\n",
    "    \"temp_melt\": 347.6,\n",
    "    \"enth_fus\": 27940,\n",
    "    \"file\": \"./cosmo_file/UD1264.cosmo\",\n",
    "    \"name\": \"IBUPROFEN\",\n",
    "}"
   ]
  }
 ],
 "metadata": {
  "language_info": {
   "name": "python"
  }
 },
 "nbformat": 4,
 "nbformat_minor": 2
}
