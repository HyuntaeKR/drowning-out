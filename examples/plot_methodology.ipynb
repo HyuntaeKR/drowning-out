{
 "cells": [
  {
   "cell_type": "code",
   "execution_count": null,
   "metadata": {},
   "outputs": [],
   "source": [
    "\"\"\"\n",
    "Jupyter notebook to check how the antisolvent screening methodology\n",
    "works on a ternary diagram.\n",
    "\n",
    "System selection\n",
    "(1) glutaric acid + 1-butanol + n-hexane\n",
    "(2) glutaric acid + 1-butanol + acetone\n",
    "\"\"\""
   ]
  },
  {
   "cell_type": "code",
   "execution_count": null,
   "metadata": {},
   "outputs": [],
   "source": [
    "import os\n",
    "import sys\n",
    "import numpy as np\n",
    "import pandas\n",
    "import matplotlib.pyplot as plt\n",
    "import ternary\n",
    "import json\n",
    "\n",
    "sys.path.append(\"..\")\n",
    "from ternary_calculate import TernaryCalculate as tc\n",
    "from antisolvent_calculate import AntisolventCalculate as ac"
   ]
  },
  {
   "cell_type": "code",
   "execution_count": null,
   "metadata": {},
   "outputs": [],
   "source": [
    "# Load ternary data\n",
    "# Uses prepared data from 'example_antisolvent_screening.ipynb' notebook.\n",
    "\n",
    "# Load n-hexane data\n",
    "n_hexane_filepath = \"./data/calculate_N-HEXANE.csv\"\n",
    "try:\n",
    "    n_hexane_data = pandas.read_csv(n_hexane_filepath)\n",
    "except FileNotFoundError:\n",
    "    print(\"Calculation data does not exist. Run example notebook before executing.\")\n",
    "\n",
    "solute_mol = n_hexane_data[\"solute_mol_fraction\"].values\n",
    "solute_mol = solute_mol[:-1]\n",
    "solvent_mol = n_hexane_data[\"solvent_mol_fraction\"].values\n",
    "solvent_mol = solvent_mol[:-1]\n",
    "antisolv_mol = n_hexane_data[\"add_antisolv_mol\"].values\n",
    "antisolv_mol = antisolv_mol[:-1]\n",
    "antisolv_mol[0] = 0"
   ]
  },
  {
   "cell_type": "code",
   "execution_count": null,
   "metadata": {},
   "outputs": [],
   "source": [
    "total_mol = "
   ]
  }
 ],
 "metadata": {
  "kernelspec": {
   "display_name": "cosmo",
   "language": "python",
   "name": "python3"
  },
  "language_info": {
   "name": "python",
   "version": "3.8.17"
  }
 },
 "nbformat": 4,
 "nbformat_minor": 2
}
