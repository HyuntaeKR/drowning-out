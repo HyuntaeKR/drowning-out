{
 "cells": [
  {
   "cell_type": "code",
   "execution_count": null,
   "metadata": {},
   "outputs": [],
   "source": [
    "\"\"\"\n",
    "Jupyter notebook for antisolvent screening.\n",
    "Solute of the system is 'glutaric acid'.\n",
    "Solvent of the system is '1-Butanol'.\n",
    "\"\"\""
   ]
  },
  {
   "cell_type": "code",
   "execution_count": null,
   "metadata": {},
   "outputs": [],
   "source": [
    "import numpy as np\n",
    "import pandas\n",
    "import matplotlib.pyplot as plt\n",
    "import ternary\n",
    "\n",
    "from cosmosac2 import COSMOMolecule, COSMOSAC\n",
    "from ternary_calculate import TernaryCalculate as tc\n",
    "from antisolvent_calculate import AntisolventCalculate as ac"
   ]
  },
  {
   "cell_type": "code",
   "execution_count": null,
   "metadata": {},
   "outputs": [],
   "source": [
    "# Solute properties\n",
    "solute = {\n",
    "    \"temp_melt\": 184.552,\n",
    "    \"enth_fus\": 9372.16,\n",
    "    \"file\": \"./cosmo_file/UD34.cosmo\",\n",
    "    \"name\": \"\",\n",
    "}\n",
    "# Solvent properties\n",
    "solvent = {\n",
    "    \"temp_melt\": 184.552,\n",
    "    \"enth_fus\": 9372.16,\n",
    "    \"file\": \"./cosmo_file/UD34.cosmo\",\n",
    "    \"name\": \"1-BUTANOL\",\n",
    "}"
   ]
  }
 ],
 "metadata": {
  "kernelspec": {
   "display_name": "cosmo",
   "language": "python",
   "name": "python3"
  },
  "language_info": {
   "name": "python",
   "version": "3.8.17"
  }
 },
 "nbformat": 4,
 "nbformat_minor": 2
}
