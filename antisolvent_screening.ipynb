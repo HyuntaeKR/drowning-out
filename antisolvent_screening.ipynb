{
 "cells": [
  {
   "cell_type": "code",
   "execution_count": null,
   "metadata": {},
   "outputs": [],
   "source": [
    "\"\"\"\n",
    "Jupyter notebook for antisolvent screening.\n",
    "Solute of the system is 'glutaric acid'.\n",
    "Solvent of the system is '1-Butanol'.\n",
    "\"\"\""
   ]
  }
 ],
 "metadata": {
  "language_info": {
   "name": "python"
  }
 },
 "nbformat": 4,
 "nbformat_minor": 2
}
