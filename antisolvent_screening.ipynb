{
 "cells": [
  {
   "cell_type": "code",
   "execution_count": 9,
   "metadata": {},
   "outputs": [
    {
     "data": {
      "text/plain": [
       "\"\\nJupyter notebook for antisolvent screening.\\nSolute of the system is 'glutaric acid'.\\nSolvent of the system is '1-Butanol'.\\n\""
      ]
     },
     "execution_count": 9,
     "metadata": {},
     "output_type": "execute_result"
    }
   ],
   "source": [
    "\"\"\"\n",
    "Jupyter notebook for antisolvent screening.\n",
    "Solute of the system is 'glutaric acid'.\n",
    "Solvent of the system is '1-Butanol'.\n",
    "\"\"\""
   ]
  },
  {
   "cell_type": "code",
   "execution_count": 10,
   "metadata": {},
   "outputs": [],
   "source": [
    "import numpy as np\n",
    "import pandas\n",
    "import matplotlib.pyplot as plt\n",
    "import ternary\n",
    "import json\n",
    "\n",
    "from cosmosac2 import COSMOMolecule, COSMOSAC\n",
    "from ternary_calculate import TernaryCalculate as tc\n",
    "from antisolvent_calculate import AntisolventCalculate as ac"
   ]
  },
  {
   "cell_type": "code",
   "execution_count": 11,
   "metadata": {},
   "outputs": [],
   "source": [
    "# Solute properties\n",
    "solute = {\n",
    "    \"temp_melt\": 370.9,\n",
    "    \"enth_fus\": 20.7,\n",
    "    \"file\": \"./cosmo_file/UD1078.cosmo\",\n",
    "    \"name\": \"GLUTARIC_ACID\",\n",
    "}\n",
    "# Solvent properties\n",
    "solvent = {\n",
    "    \"temp_melt\": 184.552,\n",
    "    \"enth_fus\": 9372.16,\n",
    "    \"file\": \"./cosmo_file/UD34.cosmo\",\n",
    "    \"name\": \"1-BUTANOL\",\n",
    "}"
   ]
  },
  {
   "cell_type": "code",
   "execution_count": 16,
   "metadata": {},
   "outputs": [
    {
     "name": "stdout",
     "output_type": "stream",
     "text": [
      "178.15\n",
      "298.7\n",
      "177.8\n",
      "279.8\n",
      "175.3\n",
      "158.8\n",
      "229.3\n",
      "176.6\n"
     ]
    }
   ],
   "source": [
    "# Load antisolvent data\n",
    "with open(\"./data/antisolvent_properties.json\", \"r\") as json_file:\n",
    "    antisolv_properties = json.load(json_file)"
   ]
  },
  {
   "cell_type": "code",
   "execution_count": null,
   "metadata": {},
   "outputs": [],
   "source": []
  }
 ],
 "metadata": {
  "kernelspec": {
   "display_name": "cosmo",
   "language": "python",
   "name": "python3"
  },
  "language_info": {
   "codemirror_mode": {
    "name": "ipython",
    "version": 3
   },
   "file_extension": ".py",
   "mimetype": "text/x-python",
   "name": "python",
   "nbconvert_exporter": "python",
   "pygments_lexer": "ipython3",
   "version": "3.8.17"
  }
 },
 "nbformat": 4,
 "nbformat_minor": 2
}
