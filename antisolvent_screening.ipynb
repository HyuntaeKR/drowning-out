{
 "cells": [
  {
   "cell_type": "code",
   "execution_count": 1,
   "metadata": {},
   "outputs": [],
   "source": [
    "\"\"\"\n",
    "Jupyter notebook for antisolvent screening.\n",
    "Solute of the system is 'glutaric acid'.\n",
    "Solvent of the system is '1-Butanol'.\n",
    "\"\"\";"
   ]
  },
  {
   "cell_type": "code",
   "execution_count": 2,
   "metadata": {},
   "outputs": [],
   "source": [
    "import numpy as np\n",
    "import pandas\n",
    "import matplotlib.pyplot as plt\n",
    "import ternary\n",
    "import json\n",
    "\n",
    "from cosmosac2 import COSMOMolecule, COSMOSAC\n",
    "from ternary_calculate import TernaryCalculate as tc\n",
    "from antisolvent_calculate import AntisolventCalculate as ac"
   ]
  },
  {
   "cell_type": "code",
   "execution_count": 3,
   "metadata": {},
   "outputs": [],
   "source": [
    "# Solute properties\n",
    "solute = {\n",
    "    \"temp_melt\": 370.9,\n",
    "    \"enth_fus\": 20.7,\n",
    "    \"file\": \"./cosmo_file/UD1078.cosmo\",\n",
    "    \"name\": \"GLUTARIC_ACID\",\n",
    "}\n",
    "# Solvent properties\n",
    "solvent = {\n",
    "    \"temp_melt\": 184.552,\n",
    "    \"enth_fus\": 9372.16,\n",
    "    \"file\": \"./cosmo_file/UD34.cosmo\",\n",
    "    \"name\": \"1-BUTANOL\",\n",
    "}"
   ]
  },
  {
   "cell_type": "code",
   "execution_count": 4,
   "metadata": {},
   "outputs": [],
   "source": [
    "# Load antisolvent data\n",
    "with open(\"./data/antisolvent_properties.json\", \"r\") as json_file:\n",
    "    antisolv_data = json.load(json_file)"
   ]
  },
  {
   "cell_type": "code",
   "execution_count": 5,
   "metadata": {},
   "outputs": [
    {
     "name": "stdout",
     "output_type": "stream",
     "text": [
      "Initializing system...\n",
      "Initialize complete!\n",
      "Initializing system...\n",
      "Initialize complete!\n",
      "Initializing system...\n",
      "Initialize complete!\n",
      "Initializing system...\n",
      "Initialize complete!\n",
      "Initializing system...\n",
      "Initialize complete!\n",
      "Initializing system...\n",
      "Initialize complete!\n",
      "Initializing system...\n",
      "Initialize complete!\n",
      "Initializing system...\n",
      "Initialize complete!\n"
     ]
    }
   ],
   "source": [
    "system = tc()\n",
    "system.add_solute(**solute)\n",
    "system.add_solvent(**solvent)\n",
    "fig = plt.figure()\n",
    "plt.hlines(0, 0, 100, colors=\"black\", linestyles=\"dashed\")\n",
    "for antisolvent in antisolv_data:\n",
    "    system.add_antisolvent(**antisolvent)\n",
    "    antisolv_calculator = ac(system, trace=False)\n",
    "    result = antisolv_calculator.get_data(\n",
    "        export=\"csv\", file_name=f\"./data/calculate_{antisolvent['name']}.csv\"\n",
    "    )\n",
    "    plt.plot(\n",
    "        result[\"add_antisolv_mole\"],\n",
    "        result[\"precip_mole\"],\n",
    "        label=f\"antisolvent: {system.mole_name[2]}\",\n",
    "    )\n",
    "    system.clear_antisolvent()"
   ]
  },
  {
   "cell_type": "code",
   "execution_count": null,
   "metadata": {},
   "outputs": [],
   "source": [
    "fig = plt.figure()\n",
    "plt.plot()"
   ]
  }
 ],
 "metadata": {
  "kernelspec": {
   "display_name": "cosmo",
   "language": "python",
   "name": "python3"
  },
  "language_info": {
   "codemirror_mode": {
    "name": "ipython",
    "version": 3
   },
   "file_extension": ".py",
   "mimetype": "text/x-python",
   "name": "python",
   "nbconvert_exporter": "python",
   "pygments_lexer": "ipython3",
   "version": "3.8.17"
  }
 },
 "nbformat": 4,
 "nbformat_minor": 2
}
