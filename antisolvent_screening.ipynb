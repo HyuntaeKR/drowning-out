{
 "cells": [
  {
   "cell_type": "code",
   "execution_count": 6,
   "metadata": {},
   "outputs": [],
   "source": [
    "\"\"\"\n",
    "Jupyter notebook for antisolvent screening.\n",
    "Solute of the system is 'glutaric acid'.\n",
    "Solvent of the system is '1-Butanol'.\n",
    "\"\"\";"
   ]
  },
  {
   "cell_type": "code",
   "execution_count": 7,
   "metadata": {},
   "outputs": [],
   "source": [
    "import numpy as np\n",
    "import pandas\n",
    "import matplotlib.pyplot as plt\n",
    "import ternary\n",
    "import json\n",
    "\n",
    "from cosmosac2 import COSMOMolecule, COSMOSAC\n",
    "from ternary_calculate import TernaryCalculate as tc\n",
    "from antisolvent_calculate import AntisolventCalculate as ac"
   ]
  },
  {
   "cell_type": "code",
   "execution_count": 8,
   "metadata": {},
   "outputs": [],
   "source": [
    "# Solute properties\n",
    "solute = {\n",
    "    \"temp_melt\": 370.9,\n",
    "    \"enth_fus\": 20.7,\n",
    "    \"file\": \"./cosmo_file/UD1078.cosmo\",\n",
    "    \"name\": \"GLUTARIC_ACID\",\n",
    "}\n",
    "# Solvent properties\n",
    "solvent = {\n",
    "    \"temp_melt\": 184.552,\n",
    "    \"enth_fus\": 9372.16,\n",
    "    \"file\": \"./cosmo_file/UD34.cosmo\",\n",
    "    \"name\": \"1-BUTANOL\",\n",
    "}"
   ]
  },
  {
   "cell_type": "code",
   "execution_count": 9,
   "metadata": {},
   "outputs": [],
   "source": [
    "# Load antisolvent data\n",
    "with open(\"./data/antisolvent_properties.json\", \"r\") as json_file:\n",
    "    antisolv_data = json.load(json_file)"
   ]
  },
  {
   "cell_type": "code",
   "execution_count": 10,
   "metadata": {},
   "outputs": [
    {
     "name": "stdout",
     "output_type": "stream",
     "text": [
      "Initializing system...\n"
     ]
    },
    {
     "name": "stdout",
     "output_type": "stream",
     "text": [
      "Initialize complete!\n"
     ]
    },
    {
     "ename": "ValueError",
     "evalue": "could not broadcast input array from shape (101,1) into shape (99,1)",
     "output_type": "error",
     "traceback": [
      "\u001b[0;31m---------------------------------------------------------------------------\u001b[0m",
      "\u001b[0;31mValueError\u001b[0m                                Traceback (most recent call last)",
      "\u001b[1;32m/Users/parkhyuntae/Library/CloudStorage/OneDrive-고려대학교/Lab_Intern/drowning-out/antisolvent_screening.ipynb Cell 5\u001b[0m line \u001b[0;36m8\n\u001b[1;32m      <a href='vscode-notebook-cell:/Users/parkhyuntae/Library/CloudStorage/OneDrive-%E1%84%80%E1%85%A9%E1%84%85%E1%85%A7%E1%84%83%E1%85%A2%E1%84%92%E1%85%A1%E1%86%A8%E1%84%80%E1%85%AD/Lab_Intern/drowning-out/antisolvent_screening.ipynb#W4sZmlsZQ%3D%3D?line=5'>6</a>\u001b[0m system\u001b[39m.\u001b[39madd_antisolvent(\u001b[39m*\u001b[39m\u001b[39m*\u001b[39mantisolvent)\n\u001b[1;32m      <a href='vscode-notebook-cell:/Users/parkhyuntae/Library/CloudStorage/OneDrive-%E1%84%80%E1%85%A9%E1%84%85%E1%85%A7%E1%84%83%E1%85%A2%E1%84%92%E1%85%A1%E1%86%A8%E1%84%80%E1%85%AD/Lab_Intern/drowning-out/antisolvent_screening.ipynb#W4sZmlsZQ%3D%3D?line=6'>7</a>\u001b[0m antisolv_calculator \u001b[39m=\u001b[39m ac(system, trace\u001b[39m=\u001b[39m\u001b[39mFalse\u001b[39;00m)\n\u001b[0;32m----> <a href='vscode-notebook-cell:/Users/parkhyuntae/Library/CloudStorage/OneDrive-%E1%84%80%E1%85%A9%E1%84%85%E1%85%A7%E1%84%83%E1%85%A2%E1%84%92%E1%85%A1%E1%86%A8%E1%84%80%E1%85%AD/Lab_Intern/drowning-out/antisolvent_screening.ipynb#W4sZmlsZQ%3D%3D?line=7'>8</a>\u001b[0m result \u001b[39m=\u001b[39m antisolv_calculator\u001b[39m.\u001b[39;49mget_data(\n\u001b[1;32m      <a href='vscode-notebook-cell:/Users/parkhyuntae/Library/CloudStorage/OneDrive-%E1%84%80%E1%85%A9%E1%84%85%E1%85%A7%E1%84%83%E1%85%A2%E1%84%92%E1%85%A1%E1%86%A8%E1%84%80%E1%85%AD/Lab_Intern/drowning-out/antisolvent_screening.ipynb#W4sZmlsZQ%3D%3D?line=8'>9</a>\u001b[0m     export\u001b[39m=\u001b[39;49m\u001b[39mf\u001b[39;49m\u001b[39m\"\u001b[39;49m\u001b[39m./data/calculate_\u001b[39;49m\u001b[39m{\u001b[39;49;00mantisolvent[\u001b[39m'\u001b[39;49m\u001b[39mname\u001b[39;49m\u001b[39m'\u001b[39;49m]\u001b[39m}\u001b[39;49;00m\u001b[39m.csv\u001b[39;49m\u001b[39m\"\u001b[39;49m\n\u001b[1;32m     <a href='vscode-notebook-cell:/Users/parkhyuntae/Library/CloudStorage/OneDrive-%E1%84%80%E1%85%A9%E1%84%85%E1%85%A7%E1%84%83%E1%85%A2%E1%84%92%E1%85%A1%E1%86%A8%E1%84%80%E1%85%AD/Lab_Intern/drowning-out/antisolvent_screening.ipynb#W4sZmlsZQ%3D%3D?line=9'>10</a>\u001b[0m )\n\u001b[1;32m     <a href='vscode-notebook-cell:/Users/parkhyuntae/Library/CloudStorage/OneDrive-%E1%84%80%E1%85%A9%E1%84%85%E1%85%A7%E1%84%83%E1%85%A2%E1%84%92%E1%85%A1%E1%86%A8%E1%84%80%E1%85%AD/Lab_Intern/drowning-out/antisolvent_screening.ipynb#W4sZmlsZQ%3D%3D?line=10'>11</a>\u001b[0m system\u001b[39m.\u001b[39mclear_antisolvent()\n",
      "File \u001b[0;32m~/Library/CloudStorage/OneDrive-고려대학교/Lab_Intern/drowning-out/antisolvent_calculate.py:176\u001b[0m, in \u001b[0;36mAntisolventCalculate.get_data\u001b[0;34m(self, export)\u001b[0m\n\u001b[1;32m    160\u001b[0m \u001b[39m\u001b[39m\u001b[39m\"\"\"\u001b[39;00m\n\u001b[1;32m    161\u001b[0m \u001b[39mGet the data needed for antisolvent screening as a DataFrame.\u001b[39;00m\n\u001b[1;32m    162\u001b[0m \n\u001b[0;32m   (...)\u001b[0m\n\u001b[1;32m    173\u001b[0m \u001b[39m    DataFrame with the antisolvent addition data.\u001b[39;00m\n\u001b[1;32m    174\u001b[0m \u001b[39m\"\"\"\u001b[39;00m\n\u001b[1;32m    175\u001b[0m ratios \u001b[39m=\u001b[39m _calc_ratios(\u001b[39mself\u001b[39m\u001b[39m.\u001b[39mternary_data)\n\u001b[0;32m--> 176\u001b[0m moles \u001b[39m=\u001b[39m _calc_moles(\u001b[39mself\u001b[39;49m\u001b[39m.\u001b[39;49minit_frac, ratios)\n\u001b[1;32m    178\u001b[0m ratios \u001b[39m=\u001b[39m pandas\u001b[39m.\u001b[39mDataFrame(ratios)\n\u001b[1;32m    179\u001b[0m moles \u001b[39m=\u001b[39m pandas\u001b[39m.\u001b[39mDataFrame(moles)\n",
      "File \u001b[0;32m~/Library/CloudStorage/OneDrive-고려대학교/Lab_Intern/drowning-out/antisolvent_calculate.py:110\u001b[0m, in \u001b[0;36m_calc_moles\u001b[0;34m(init_frac, ratios)\u001b[0m\n\u001b[1;32m    107\u001b[0m array_format[\u001b[39m-\u001b[39m\u001b[39m1\u001b[39m] \u001b[39m=\u001b[39m np\u001b[39m.\u001b[39mnan\n\u001b[1;32m    109\u001b[0m add_antisolv_mole \u001b[39m=\u001b[39m array_format\n\u001b[0;32m--> 110\u001b[0m add_antisolv_mole[\u001b[39m1\u001b[39;49m:\u001b[39m-\u001b[39;49m\u001b[39m1\u001b[39;49m] \u001b[39m=\u001b[39m calc_basis_mole \u001b[39m*\u001b[39m init_frac[\u001b[39m1\u001b[39m] \u001b[39m*\u001b[39m antisolv_ratio\n\u001b[1;32m    112\u001b[0m capacity_mole \u001b[39m=\u001b[39m array_format\n\u001b[1;32m    113\u001b[0m capacity_mole[\u001b[39m1\u001b[39m:\u001b[39m-\u001b[39m\u001b[39m1\u001b[39m] \u001b[39m=\u001b[39m calc_basis_mole \u001b[39m*\u001b[39m init_frac[\u001b[39m1\u001b[39m] \u001b[39m*\u001b[39m capacity_ratio\n",
      "\u001b[0;31mValueError\u001b[0m: could not broadcast input array from shape (101,1) into shape (99,1)"
     ]
    }
   ],
   "source": [
    "system = tc()\n",
    "system.add_solute(**solute)\n",
    "system.add_solvent(**solvent)\n",
    "calc_data = dict()\n",
    "for antisolvent in antisolv_data:\n",
    "    system.add_antisolvent(**antisolvent)\n",
    "    antisolv_calculator = ac(system, trace=False)\n",
    "    result = antisolv_calculator.get_data(\n",
    "        export=f\"./data/calculate_{antisolvent['name']}.csv\"\n",
    "    )\n",
    "    system.clear_antisolvent()"
   ]
  },
  {
   "cell_type": "code",
   "execution_count": null,
   "metadata": {},
   "outputs": [],
   "source": []
  }
 ],
 "metadata": {
  "kernelspec": {
   "display_name": "cosmo",
   "language": "python",
   "name": "python3"
  },
  "language_info": {
   "codemirror_mode": {
    "name": "ipython",
    "version": 3
   },
   "file_extension": ".py",
   "mimetype": "text/x-python",
   "name": "python",
   "nbconvert_exporter": "python",
   "pygments_lexer": "ipython3",
   "version": "3.8.17"
  }
 },
 "nbformat": 4,
 "nbformat_minor": 2
}
