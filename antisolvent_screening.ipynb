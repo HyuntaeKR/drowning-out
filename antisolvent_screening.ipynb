{
 "cells": [
  {
   "cell_type": "code",
   "execution_count": 1,
   "metadata": {},
   "outputs": [],
   "source": [
    "\"\"\"\n",
    "Jupyter notebook for antisolvent screening.\n",
    "Solute of the system is 'glutaric acid'.\n",
    "Solvent of the system is '1-Butanol'.\n",
    "\"\"\";"
   ]
  },
  {
   "cell_type": "code",
   "execution_count": 2,
   "metadata": {},
   "outputs": [],
   "source": [
    "import numpy as np\n",
    "import pandas\n",
    "import matplotlib.pyplot as plt\n",
    "import ternary\n",
    "import json\n",
    "\n",
    "from cosmosac2 import COSMOMolecule, COSMOSAC\n",
    "from ternary_calculate import TernaryCalculate as tc\n",
    "from antisolvent_calculate import AntisolventCalculate as ac"
   ]
  },
  {
   "cell_type": "code",
   "execution_count": 3,
   "metadata": {},
   "outputs": [],
   "source": [
    "# Solute properties\n",
    "solute = {\n",
    "    \"temp_melt\": 370.9,\n",
    "    \"enth_fus\": 20.7,\n",
    "    \"file\": \"./cosmo_file/UD1078.cosmo\",\n",
    "    \"name\": \"GLUTARIC_ACID\",\n",
    "}\n",
    "# Solvent properties\n",
    "solvent = {\n",
    "    \"temp_melt\": 184.552,\n",
    "    \"enth_fus\": 9372.16,\n",
    "    \"file\": \"./cosmo_file/UD34.cosmo\",\n",
    "    \"name\": \"1-BUTANOL\",\n",
    "}"
   ]
  },
  {
   "cell_type": "code",
   "execution_count": 4,
   "metadata": {},
   "outputs": [],
   "source": [
    "# Load antisolvent data\n",
    "with open(\"./data/antisolvent_properties.json\", \"r\") as json_file:\n",
    "    antisolv_data = json.load(json_file)"
   ]
  },
  {
   "cell_type": "code",
   "execution_count": 5,
   "metadata": {},
   "outputs": [
    {
     "name": "stdout",
     "output_type": "stream",
     "text": [
      "Initializing system...\n",
      "Initialize complete!\n"
     ]
    },
    {
     "ename": "Exception",
     "evalue": "Wrong data format!",
     "output_type": "error",
     "traceback": [
      "\u001b[0;31m---------------------------------------------------------------------------\u001b[0m",
      "\u001b[0;31mException\u001b[0m                                 Traceback (most recent call last)",
      "\u001b[1;32m/Users/parkhyuntae/Library/CloudStorage/OneDrive-고려대학교/Lab_Intern/drowning-out/antisolvent_screening.ipynb Cell 5\u001b[0m line \u001b[0;36m8\n\u001b[1;32m      <a href='vscode-notebook-cell:/Users/parkhyuntae/Library/CloudStorage/OneDrive-%E1%84%80%E1%85%A9%E1%84%85%E1%85%A7%E1%84%83%E1%85%A2%E1%84%92%E1%85%A1%E1%86%A8%E1%84%80%E1%85%AD/Lab_Intern/drowning-out/antisolvent_screening.ipynb#W4sZmlsZQ%3D%3D?line=5'>6</a>\u001b[0m system\u001b[39m.\u001b[39madd_antisolvent(\u001b[39m*\u001b[39m\u001b[39m*\u001b[39mantisolvent)\n\u001b[1;32m      <a href='vscode-notebook-cell:/Users/parkhyuntae/Library/CloudStorage/OneDrive-%E1%84%80%E1%85%A9%E1%84%85%E1%85%A7%E1%84%83%E1%85%A2%E1%84%92%E1%85%A1%E1%86%A8%E1%84%80%E1%85%AD/Lab_Intern/drowning-out/antisolvent_screening.ipynb#W4sZmlsZQ%3D%3D?line=6'>7</a>\u001b[0m antisolv_calculator \u001b[39m=\u001b[39m ac(system, trace\u001b[39m=\u001b[39m\u001b[39mFalse\u001b[39;00m)\n\u001b[0;32m----> <a href='vscode-notebook-cell:/Users/parkhyuntae/Library/CloudStorage/OneDrive-%E1%84%80%E1%85%A9%E1%84%85%E1%85%A7%E1%84%83%E1%85%A2%E1%84%92%E1%85%A1%E1%86%A8%E1%84%80%E1%85%AD/Lab_Intern/drowning-out/antisolvent_screening.ipynb#W4sZmlsZQ%3D%3D?line=7'>8</a>\u001b[0m result \u001b[39m=\u001b[39m antisolv_calculator\u001b[39m.\u001b[39;49mget_data(\n\u001b[1;32m      <a href='vscode-notebook-cell:/Users/parkhyuntae/Library/CloudStorage/OneDrive-%E1%84%80%E1%85%A9%E1%84%85%E1%85%A7%E1%84%83%E1%85%A2%E1%84%92%E1%85%A1%E1%86%A8%E1%84%80%E1%85%AD/Lab_Intern/drowning-out/antisolvent_screening.ipynb#W4sZmlsZQ%3D%3D?line=8'>9</a>\u001b[0m     export\u001b[39m=\u001b[39;49m\u001b[39m\"\u001b[39;49m\u001b[39mcsv\u001b[39;49m\u001b[39m\"\u001b[39;49m, file_name\u001b[39m=\u001b[39;49m\u001b[39mf\u001b[39;49m\u001b[39m\"\u001b[39;49m\u001b[39m./data/calculate_\u001b[39;49m\u001b[39m{\u001b[39;49;00mantisolvent[\u001b[39m'\u001b[39;49m\u001b[39mname\u001b[39;49m\u001b[39m'\u001b[39;49m]\u001b[39m}\u001b[39;49;00m\u001b[39m.csv\u001b[39;49m\u001b[39m\"\u001b[39;49m\n\u001b[1;32m     <a href='vscode-notebook-cell:/Users/parkhyuntae/Library/CloudStorage/OneDrive-%E1%84%80%E1%85%A9%E1%84%85%E1%85%A7%E1%84%83%E1%85%A2%E1%84%92%E1%85%A1%E1%86%A8%E1%84%80%E1%85%AD/Lab_Intern/drowning-out/antisolvent_screening.ipynb#W4sZmlsZQ%3D%3D?line=9'>10</a>\u001b[0m )\n\u001b[1;32m     <a href='vscode-notebook-cell:/Users/parkhyuntae/Library/CloudStorage/OneDrive-%E1%84%80%E1%85%A9%E1%84%85%E1%85%A7%E1%84%83%E1%85%A2%E1%84%92%E1%85%A1%E1%86%A8%E1%84%80%E1%85%AD/Lab_Intern/drowning-out/antisolvent_screening.ipynb#W4sZmlsZQ%3D%3D?line=10'>11</a>\u001b[0m calc_data[\u001b[39mf\u001b[39m\u001b[39m\"\u001b[39m\u001b[39m{\u001b[39;00mantisolvent[\u001b[39m'\u001b[39m\u001b[39mname\u001b[39m\u001b[39m'\u001b[39m]\u001b[39m}\u001b[39;00m\u001b[39m\"\u001b[39m] \u001b[39m=\u001b[39m result[\u001b[39m\"\u001b[39m\u001b[39mprecip_mole\u001b[39m\u001b[39m\"\u001b[39m]\n\u001b[1;32m     <a href='vscode-notebook-cell:/Users/parkhyuntae/Library/CloudStorage/OneDrive-%E1%84%80%E1%85%A9%E1%84%85%E1%85%A7%E1%84%83%E1%85%A2%E1%84%92%E1%85%A1%E1%86%A8%E1%84%80%E1%85%AD/Lab_Intern/drowning-out/antisolvent_screening.ipynb#W4sZmlsZQ%3D%3D?line=11'>12</a>\u001b[0m system\u001b[39m.\u001b[39mclear_antisolvent()\n",
      "File \u001b[0;32m~/Library/CloudStorage/OneDrive-고려대학교/Lab_Intern/drowning-out/antisolvent_calculate.py:191\u001b[0m, in \u001b[0;36mAntisolventCalculate.get_data\u001b[0;34m(self, export, file_name)\u001b[0m\n\u001b[1;32m    189\u001b[0m     \u001b[39mreturn\u001b[39;00m data\n\u001b[1;32m    190\u001b[0m \u001b[39melse\u001b[39;00m:\n\u001b[0;32m--> 191\u001b[0m     \u001b[39mraise\u001b[39;00m \u001b[39mException\u001b[39;00m(\u001b[39m\"\u001b[39m\u001b[39mWrong data format!\u001b[39m\u001b[39m\"\u001b[39m)\n",
      "\u001b[0;31mException\u001b[0m: Wrong data format!"
     ]
    }
   ],
   "source": [
    "system = tc()\n",
    "system.add_solute(**solute)\n",
    "system.add_solvent(**solvent)\n",
    "calc_data = dict()\n",
    "for antisolvent in antisolv_data:\n",
    "    system.add_antisolvent(**antisolvent)\n",
    "    antisolv_calculator = ac(system, trace=False)\n",
    "    result = antisolv_calculator.get_data(\n",
    "        export=\"csv\", file_name=f\"./data/calculate_{antisolvent['name']}.csv\"\n",
    "    )\n",
    "    calc_data[f\"{antisolvent['name']}\"] = result[\"precip_mole\"]\n",
    "    system.clear_antisolvent()"
   ]
  },
  {
   "cell_type": "code",
   "execution_count": null,
   "metadata": {},
   "outputs": [],
   "source": []
  }
 ],
 "metadata": {
  "kernelspec": {
   "display_name": "cosmo",
   "language": "python",
   "name": "python3"
  },
  "language_info": {
   "codemirror_mode": {
    "name": "ipython",
    "version": 3
   },
   "file_extension": ".py",
   "mimetype": "text/x-python",
   "name": "python",
   "nbconvert_exporter": "python",
   "pygments_lexer": "ipython3",
   "version": "3.8.17"
  }
 },
 "nbformat": 4,
 "nbformat_minor": 2
}
